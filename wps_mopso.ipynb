{
 "cells": [
  {
   "cell_type": "code",
   "execution_count": 160,
   "metadata": {},
   "outputs": [],
   "source": [
    "import matplotlib.pyplot as plt\n",
    "import numpy as np\n",
    "import random"
   ]
  },
  {
   "cell_type": "code",
   "execution_count": 161,
   "metadata": {},
   "outputs": [],
   "source": [
    "NUM_PARTICLES = 100\n",
    "\n",
    "# Dimensions in milimeters\n",
    "BOUNDS_ESPESSURE = (0.2, 1.5)  # mm\n",
    "BOUNDS_DIAMETER = (10, 50)  # mm\n",
    "BOUNDS_POSITION = (0, 1000)  # m\n",
    "\n",
    "NUM_SENSORS = 6\n",
    "NUM_PARAMETERS = 3\n",
    "NUM_VARIABLES = NUM_SENSORS * NUM_PARAMETERS\n",
    "\n",
    "ESPESSURE_INDEX = 0\n",
    "DIAMETER_INDEX = 1\n",
    "POSITION_INDEX = 2\n",
    "\n",
    "NUM_ITERATIONS = 1000\n",
    "\n",
    "w = 0.5\n",
    "c1 = 1\n",
    "c2 = 3"
   ]
  },
  {
   "cell_type": "code",
   "execution_count": 162,
   "metadata": {},
   "outputs": [],
   "source": [
    "random.seed(0)\n",
    "np.random.seed(0)"
   ]
  },
  {
   "cell_type": "code",
   "execution_count": 163,
   "metadata": {},
   "outputs": [],
   "source": [
    "def generate_sensor():\n",
    "    return [\n",
    "        np.random.uniform(*BOUNDS_ESPESSURE),\n",
    "        np.random.uniform(*BOUNDS_DIAMETER),\n",
    "        np.random.uniform(*BOUNDS_POSITION),\n",
    "    ]"
   ]
  },
  {
   "cell_type": "code",
   "execution_count": 164,
   "metadata": {},
   "outputs": [],
   "source": [
    "def circles_intersect(center1, diameter1, center2, diameter2):\n",
    "    radius1 = diameter1 / 2\n",
    "    radius2 = diameter2 / 2\n",
    "    dist = abs(center1 - center2)\n",
    "\n",
    "    return dist <= (radius1 + radius2)"
   ]
  },
  {
   "cell_type": "code",
   "execution_count": 165,
   "metadata": {},
   "outputs": [],
   "source": [
    "def get_elements_in_chunks(lst, chunk_size=NUM_PARAMETERS):\n",
    "    return [lst[i : i + chunk_size] for i in range(0, len(lst), chunk_size)]"
   ]
  },
  {
   "cell_type": "code",
   "execution_count": 166,
   "metadata": {},
   "outputs": [],
   "source": [
    "def is_valid_position(new_sensor, sensors):\n",
    "    grouped_sensors = get_elements_in_chunks(sensors)\n",
    "    if not (\n",
    "        (BOUNDS_ESPESSURE[0] < new_sensor[ESPESSURE_INDEX] < BOUNDS_ESPESSURE[1])\n",
    "        and (BOUNDS_DIAMETER[0] < new_sensor[DIAMETER_INDEX] < BOUNDS_DIAMETER[1])\n",
    "        and (BOUNDS_POSITION[0] < new_sensor[POSITION_INDEX] < BOUNDS_POSITION[1])\n",
    "    ):\n",
    "        return False\n",
    "\n",
    "    for sensor in grouped_sensors:\n",
    "        if not (\n",
    "            sensor[ESPESSURE_INDEX] == new_sensor[ESPESSURE_INDEX]\n",
    "            and sensor[DIAMETER_INDEX] == new_sensor[DIAMETER_INDEX]\n",
    "            and sensor[POSITION_INDEX] == new_sensor[POSITION_INDEX]\n",
    "        ) and circles_intersect(\n",
    "            sensor[POSITION_INDEX],\n",
    "            sensor[DIAMETER_INDEX],\n",
    "            new_sensor[POSITION_INDEX],\n",
    "            new_sensor[DIAMETER_INDEX],\n",
    "        ):\n",
    "            return False\n",
    "    return True"
   ]
  },
  {
   "cell_type": "code",
   "execution_count": 167,
   "metadata": {},
   "outputs": [],
   "source": [
    "def generate_sensors():\n",
    "    sensors = []\n",
    "\n",
    "    for _ in range(NUM_SENSORS):\n",
    "        sensor = generate_sensor()\n",
    "\n",
    "        while not is_valid_position(sensor, sensors):\n",
    "            sensor = generate_sensor()\n",
    "\n",
    "        sensors.extend(sensor)\n",
    "\n",
    "    return sensors"
   ]
  },
  {
   "cell_type": "code",
   "execution_count": 168,
   "metadata": {},
   "outputs": [],
   "source": [
    "def calculate_sensitivity(D, e, x, v=0.45, E=2e9):\n",
    "    sens = 3 / 8 * (1 + v) * (D / 2) ** 2 / (E * e**2)\n",
    "    s = 5.2e-6 * x + sens\n",
    "    return s"
   ]
  },
  {
   "cell_type": "code",
   "execution_count": 169,
   "metadata": {},
   "outputs": [],
   "source": [
    "def calculate_linearity(D, e, x):\n",
    "    lin = (\n",
    "        0.9509\n",
    "        + 0.2274 * e\n",
    "        - 0.0045 * D\n",
    "        - 0.0863 * e**2\n",
    "        + 0.0013 * e * D\n",
    "        + 1.2732e-5 * D**2\n",
    "    )\n",
    "    l = -0.019 * x + lin\n",
    "    return l"
   ]
  },
  {
   "cell_type": "code",
   "execution_count": 170,
   "metadata": {},
   "outputs": [],
   "source": [
    "def calculate_cost(particle_position):\n",
    "    sensors = get_elements_in_chunks(particle_position)\n",
    "    total_sensitivity = 0\n",
    "    total_linearity = 0\n",
    "\n",
    "    for sensor in sensors:\n",
    "        D = sensor[DIAMETER_INDEX]\n",
    "        e = sensor[ESPESSURE_INDEX]\n",
    "        x = sensor[POSITION_INDEX] / 1000\n",
    "\n",
    "        total_sensitivity += calculate_sensitivity(D, e, x)\n",
    "        total_linearity += calculate_linearity(D, e, x)\n",
    "\n",
    "    return (total_sensitivity, total_linearity)"
   ]
  },
  {
   "cell_type": "code",
   "execution_count": 171,
   "metadata": {},
   "outputs": [],
   "source": [
    "def create_particle():\n",
    "    sensors = generate_sensors()\n",
    "    return {\n",
    "        \"position\": sensors,\n",
    "        \"velocity\": np.zeros(18),\n",
    "        \"cost\": calculate_cost(sensors),\n",
    "        \"best\": [\n",
    "            {\n",
    "                \"position\": sensors,\n",
    "                \"cost\": calculate_cost(sensors),\n",
    "                \"is_dominated\": False,\n",
    "            }\n",
    "        ],\n",
    "        \"is_dominated\": False,\n",
    "    }"
   ]
  },
  {
   "cell_type": "code",
   "execution_count": 172,
   "metadata": {},
   "outputs": [],
   "source": [
    "def determine_domination(particles_swarm):\n",
    "\n",
    "    for particle in particles_swarm:\n",
    "        particle[\"cost\"] = calculate_cost(particle[\"position\"])\n",
    "        particle[\"is_dominated\"] = False\n",
    "\n",
    "    for i in range(len(particles_swarm)):\n",
    "        for j in range(len(particles_swarm)):\n",
    "            if i != j:\n",
    "                if (\n",
    "                    particles_swarm[j][\"cost\"][0] >= particles_swarm[i][\"cost\"][0]\n",
    "                    and particles_swarm[j][\"cost\"][1] >= particles_swarm[i][\"cost\"][1]\n",
    "                    and (\n",
    "                        particles_swarm[j][\"cost\"][0] > particles_swarm[i][\"cost\"][0]\n",
    "                        or particles_swarm[j][\"cost\"][1] > particles_swarm[i][\"cost\"][1]\n",
    "                    )\n",
    "                ):\n",
    "                    particles_swarm[i][\"is_dominated\"] = True\n",
    "                    break"
   ]
  },
  {
   "cell_type": "code",
   "execution_count": 173,
   "metadata": {},
   "outputs": [],
   "source": [
    "def dominates(a, b):\n",
    "    \"\"\"Verifica se a solução `a` domina a solução `b`.\"\"\"\n",
    "    return all(x <= y for x, y in zip(a, b)) and any(x < y for x, y in zip(a, b))\n",
    "\n",
    "\n",
    "def pareto_front(particles):\n",
    "    \"\"\"Retorna as partículas que pertencem à frente de Pareto.\"\"\"\n",
    "    pareto_set = []\n",
    "    for i, particle in enumerate(particles):\n",
    "        dominated = False\n",
    "        for j, other_particle in enumerate(particles):\n",
    "            if dominates(other_particle, particle):\n",
    "                dominated = True\n",
    "                break\n",
    "        if not dominated:\n",
    "            pareto_set.append(particle)\n",
    "    return pareto_set"
   ]
  },
  {
   "cell_type": "code",
   "execution_count": 174,
   "metadata": {},
   "outputs": [],
   "source": [
    "def get_non_dominated_particles(particles_swarm):\n",
    "    determine_domination(particles_swarm)\n",
    "    return [particle for particle in particles_swarm if not particle[\"is_dominated\"]]"
   ]
  },
  {
   "cell_type": "code",
   "execution_count": 175,
   "metadata": {},
   "outputs": [],
   "source": [
    "def calculate_velocity(w, x, v, c1, c2, pbest, gbest):\n",
    "    r1 = random.random()\n",
    "    r2 = random.random()\n",
    "\n",
    "    x = np.array(x)\n",
    "    v = np.array(v)\n",
    "    pbest = np.array(pbest)\n",
    "    gbest = np.array(gbest)\n",
    "    return w * v + c1 * r1 * (pbest - x) + c2 * r2 * (gbest - x)"
   ]
  },
  {
   "cell_type": "code",
   "execution_count": 176,
   "metadata": {},
   "outputs": [],
   "source": [
    "def plot(variable):\n",
    "    # Separating the results into two lists: one for sensitivity and one for linearity\n",
    "    sensitivity = [particle[\"cost\"][0] for particle in variable]\n",
    "    linearity = [particle[\"cost\"][1] for particle in variable]\n",
    "\n",
    "    # Plotting the Pareto chart\n",
    "    plt.figure(figsize=(12, 8))\n",
    "    plt.scatter(sensitivity, linearity, marker=\"o\", color=\"r\")\n",
    "    plt.xlabel(\"Sensitivity\")\n",
    "    plt.ylabel(\"Linearity\")\n",
    "    plt.title(\"Pareto Curve: Sensitivity vs Linearity\")\n",
    "    plt.show()\n",
    "    "
   ]
  },
  {
   "cell_type": "code",
   "execution_count": 177,
   "metadata": {},
   "outputs": [],
   "source": [
    "def update_positions(particles_swarm, gbest):\n",
    "    for particle in particles_swarm:\n",
    "        random_gbest = random.choice(gbest)\n",
    "        random_pbest = random.choice(particle[\"best\"])\n",
    "\n",
    "        particle[\"velocity\"] = calculate_velocity(\n",
    "            w,\n",
    "            particle[\"position\"],\n",
    "            particle[\"velocity\"],\n",
    "            c1,\n",
    "            c2,\n",
    "            random_pbest[\"position\"],\n",
    "            random_gbest[\"position\"],\n",
    "        )\n",
    "        particle[\"position\"] = particle[\"position\"] + particle[\"velocity\"]\n",
    "        particle[\"cost\"] = calculate_cost(particle[\"position\"])\n",
    "        particle[\"is_dominated\"] = False\n",
    "\n",
    "\n",
    "        added = False\n",
    "        for best in particle[\"best\"]:\n",
    "            if np.array_equal(particle[\"position\"], best[\"position\"]):\n",
    "                added = True\n",
    "                break\n",
    "        if not added:\n",
    "            particle[\"best\"].append(particle.copy())\n",
    "\n",
    "        particle[\"best\"] = get_non_dominated_particles(particle[\"best\"])"
   ]
  },
  {
   "cell_type": "code",
   "execution_count": 178,
   "metadata": {},
   "outputs": [],
   "source": [
    "def assert_valid_positions(particles_swarm):\n",
    "    for particle in particles_swarm:\n",
    "        sensors = particle[\"position\"]\n",
    "        grouped_sensors = get_elements_in_chunks(sensors)\n",
    "\n",
    "        for sensor in grouped_sensors:\n",
    "            if not is_valid_position(sensor, sensors):\n",
    "                particle[\"position\"] = generate_sensors()\n",
    "                particle[\"cost\"] = calculate_cost(particle[\"position\"])\n",
    "                break"
   ]
  },
  {
   "cell_type": "code",
   "execution_count": 179,
   "metadata": {},
   "outputs": [],
   "source": [
    "particles_swarm = [create_particle() for _ in range(NUM_PARTICLES)]"
   ]
  },
  {
   "cell_type": "code",
   "execution_count": 180,
   "metadata": {},
   "outputs": [],
   "source": [
    "gbest = []"
   ]
  },
  {
   "cell_type": "code",
   "execution_count": 181,
   "metadata": {},
   "outputs": [],
   "source": [
    "for i in range(NUM_ITERATIONS):\n",
    "    non_dominated = get_non_dominated_particles(particles_swarm)\n",
    "\n",
    "    for particle in non_dominated:\n",
    "        added = False\n",
    "        for best in gbest:\n",
    "            if np.array_equal(particle[\"position\"], best[\"position\"]):\n",
    "                added = True\n",
    "                break\n",
    "        if not added:\n",
    "            gbest.append(particle.copy())\n",
    "\n",
    "    gbest = get_non_dominated_particles(gbest)\n",
    "\n",
    "    update_positions(particles_swarm, gbest)\n",
    "    assert_valid_positions(particles_swarm)"
   ]
  },
  {
   "cell_type": "code",
   "execution_count": 182,
   "metadata": {},
   "outputs": [
    {
     "data": {
      "image/png": "[encoded data removed]",
      "text/plain": [
       "<Figure size 1200x800 with 1 Axes>"
      ]
     },
     "metadata": {},
     "output_type": "display_data"
    }
   ],
   "source": [
    "plot(gbest)"
   ]
  },
  {
   "cell_type": "code",
   "execution_count": null,
   "metadata": {},
   "outputs": [],
   "source": []
  }
 ],
 "metadata": {
  "kernelspec": {
   "display_name": ".venv",
   "language": "python",
   "name": "python3"
  },
  "language_info": {
   "codemirror_mode": {
    "name": "ipython",
    "version": 3
   },
   "file_extension": ".py",
   "mimetype": "text/x-python",
   "name": "python",
   "nbconvert_exporter": "python",
   "pygments_lexer": "ipython3",
   "version": "3.10.12"
  }
 },
 "nbformat": 4,
 "nbformat_minor": 2
}
